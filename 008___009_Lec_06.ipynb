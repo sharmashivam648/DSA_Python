{
  "nbformat": 4,
  "nbformat_minor": 0,
  "metadata": {
    "colab": {
      "provenance": []
    },
    "kernelspec": {
      "name": "python3",
      "display_name": "Python 3"
    },
    "language_info": {
      "name": "python"
    }
  },
  "cells": [
    {
      "cell_type": "code",
      "execution_count": null,
      "metadata": {
        "colab": {
          "base_uri": "https://localhost:8080/"
        },
        "id": "krsKY0C5-uFW",
        "outputId": "699e72b8-8910-4f52-d11b-3d53a6db9a56"
      },
      "outputs": [
        {
          "output_type": "stream",
          "name": "stdout",
          "text": [
            "Enter Minimum Fahrenheit: 0\n",
            "Enter Maximum Fahrenheit: 100\n",
            "Enter Step Size: 20\n",
            "0\t-17.78\n",
            "20\t-6.67\n",
            "40\t4.44\n",
            "60\t15.56\n",
            "80\t26.67\n",
            "100\t37.78\n"
          ]
        }
      ],
      "source": [
        "# Fahrenheit to Celsius\n",
        "# C = (5/9) * (F-32)\n",
        "min_F = int(input('Enter Minimum Fahrenheit: '))\n",
        "max_F = int(input('Enter Maximum Fahrenheit: '))\n",
        "steps = int(input('Enter Step Size: '))\n",
        "\n",
        "for F in range(min_F, max_F + 1, steps):\n",
        "  C = round((5/9) * (F-32), 2)  # round(number, digits)\n",
        "  print(F, '\\t', C, sep='')\n"
      ]
    },
    {
      "cell_type": "code",
      "source": [
        "# Reverse a number with digits and Position\n",
        "\n",
        "n = int(input('Enter a valid Number: '))\n",
        "num = 0\n",
        "i = 1 #Position\n",
        "\n",
        "while (n > 0):\n",
        "  rem = n % 10\n",
        "  num += i * 10 ** (rem - 1)\n",
        "  n //= 10\n",
        "  i += 1\n",
        "\n",
        "print('Reverse is', num)\n"
      ],
      "metadata": {
        "colab": {
          "base_uri": "https://localhost:8080/"
        },
        "id": "3I_SLyra_opk",
        "outputId": "994b5c9b-f433-421e-87eb-9c72fe0599b2"
      },
      "execution_count": null,
      "outputs": [
        {
          "output_type": "stream",
          "name": "stdout",
          "text": [
            "Enter a valid Number: 12543\n",
            "Reverse is 32145\n"
          ]
        }
      ]
    },
    {
      "cell_type": "code",
      "source": [
        "# Using Python's math module\n",
        "import math\n",
        "\n",
        "n = int(input('Enter a valid Number: '))\n",
        "num = 0\n",
        "i = 1 #Position\n",
        "\n",
        "while (n > 0):\n",
        "  rem = n % 10\n",
        "  num += i * int(math.pow(10, rem - 1)) # math.pow(base, power)\n",
        "  n //= 10\n",
        "  i += 1\n",
        "\n",
        "print('Reverse is', num)"
      ],
      "metadata": {
        "colab": {
          "base_uri": "https://localhost:8080/"
        },
        "id": "4dsejlUGH6EA",
        "outputId": "2212a430-09d5-41b2-eeab-6104888dedcc"
      },
      "execution_count": null,
      "outputs": [
        {
          "output_type": "stream",
          "name": "stdout",
          "text": [
            "Enter a valid Number: 31245\n",
            "Reverse is 12534\n"
          ]
        }
      ]
    }
  ]
}