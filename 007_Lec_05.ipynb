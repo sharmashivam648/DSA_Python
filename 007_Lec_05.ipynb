{
  "nbformat": 4,
  "nbformat_minor": 0,
  "metadata": {
    "colab": {
      "provenance": []
    },
    "kernelspec": {
      "name": "python3",
      "display_name": "Python 3"
    },
    "language_info": {
      "name": "python"
    }
  },
  "cells": [
    {
      "cell_type": "markdown",
      "source": [
        "\n",
        "\n",
        "```\n",
        "To add two numbers of any base:\n",
        "1. Add the digits of the two numbers along with any carry from the previous position.\n",
        "2. Take (result % base) to determine the digit to place in the current position of the sum.\n",
        "3. Take (result // base) to calculate the carry, which is added to the next significant position.\n",
        "```\n",
        "\n"
      ],
      "metadata": {
        "id": "moFoM4xr5hgh"
      }
    },
    {
      "cell_type": "code",
      "execution_count": null,
      "metadata": {
        "colab": {
          "base_uri": "https://localhost:8080/"
        },
        "id": "CKRoOSOpIO1v",
        "outputId": "e04da721-95dd-4f49-e295-eb7c809f5cdc"
      },
      "outputs": [
        {
          "output_type": "stream",
          "name": "stdout",
          "text": [
            "Enter an Integer: 77\n",
            "1001101\n"
          ]
        }
      ],
      "source": [
        "# Decimal to Binary\n",
        "\n",
        "num = int(input('Enter an Integer: '))\n",
        "\n",
        "binary = 0\n",
        "i = 0\n",
        "\n",
        "while num > 0:\n",
        "  rem = num % 2\n",
        "  binary += rem * 10 ** i # Python's Exponential Operator\n",
        "  i += 1\n",
        "  num //= 2\n",
        "\n",
        "print(binary)"
      ]
    },
    {
      "cell_type": "code",
      "source": [
        "# Decimal to Binary\n",
        "\n",
        "num = int(input('Enter an Integer: '))\n",
        "\n",
        "binary = 0\n",
        "i = 0\n",
        "j = 1\n",
        "\n",
        "while num > 0:\n",
        "  rem = num % 2\n",
        "  binary += rem * j\n",
        "  j *= 10\n",
        "  i += 1\n",
        "  num //= 2\n",
        "\n",
        "print(binary)"
      ],
      "metadata": {
        "colab": {
          "base_uri": "https://localhost:8080/"
        },
        "id": "J40frbyzvSYh",
        "outputId": "e851129a-d4b4-45cc-ff50-eb666e38b3d5"
      },
      "execution_count": null,
      "outputs": [
        {
          "output_type": "stream",
          "name": "stdout",
          "text": [
            "Enter an Integer: 77\n",
            "1001101\n"
          ]
        }
      ]
    },
    {
      "cell_type": "code",
      "source": [
        "# Python has inbuilt bin function\n",
        "\n",
        "n = int(input('Enter an Integer: '))\n",
        "print(bin(n))"
      ],
      "metadata": {
        "id": "fen6qbF1sN-w",
        "colab": {
          "base_uri": "https://localhost:8080/"
        },
        "outputId": "8b196895-0d33-4002-dc13-65b987fc70b7"
      },
      "execution_count": null,
      "outputs": [
        {
          "output_type": "stream",
          "name": "stdout",
          "text": [
            "Enter an Integer: 77\n",
            "0b1001101\n"
          ]
        }
      ]
    },
    {
      "cell_type": "code",
      "source": [
        "# Binary to decimal\n",
        "\n",
        "num = int(input('Enter an Integer: '))\n",
        "\n",
        "decimal = 0\n",
        "i = 0\n",
        "j = 1\n",
        "\n",
        "while num > 0:\n",
        "  rem = num % 10\n",
        "  decimal += rem * j\n",
        "  j *= 2\n",
        "  i += 1\n",
        "  num //= 10\n",
        "\n",
        "print(decimal)"
      ],
      "metadata": {
        "colab": {
          "base_uri": "https://localhost:8080/"
        },
        "id": "d15qBXgkznp2",
        "outputId": "d1ca1d9c-79d7-4b77-82c0-8af34ed05da9"
      },
      "execution_count": null,
      "outputs": [
        {
          "output_type": "stream",
          "name": "stdout",
          "text": [
            "Enter an Integer: 111001010\n",
            "458\n"
          ]
        }
      ]
    },
    {
      "cell_type": "code",
      "source": [
        "# Python has inbuilt int function\n",
        "\n",
        "binary = 0b1001101\n",
        "print(int(binary))"
      ],
      "metadata": {
        "colab": {
          "base_uri": "https://localhost:8080/"
        },
        "id": "gCYqCqSG0B6g",
        "outputId": "51006341-a212-40bf-d7c8-7dacad244f63"
      },
      "execution_count": null,
      "outputs": [
        {
          "output_type": "stream",
          "name": "stdout",
          "text": [
            "77\n"
          ]
        }
      ]
    },
    {
      "cell_type": "code",
      "source": [
        "# Decimal to Octal\n",
        "\n",
        "num = int(input('Enter an Integer: '))\n",
        "\n",
        "octal = 0\n",
        "i = 0\n",
        "j = 1\n",
        "\n",
        "while num > 0:\n",
        "  rem = num % 8\n",
        "  octal += rem * j\n",
        "  j *= 10\n",
        "  i += 1\n",
        "  num //= 8\n",
        "\n",
        "print(octal)"
      ],
      "metadata": {
        "colab": {
          "base_uri": "https://localhost:8080/"
        },
        "id": "qjf-ADok1YcY",
        "outputId": "c5b0709b-2e0f-4aee-a12d-6f3e252e69ca"
      },
      "execution_count": null,
      "outputs": [
        {
          "output_type": "stream",
          "name": "stdout",
          "text": [
            "Enter an Integer: 398\n",
            "616\n"
          ]
        }
      ]
    },
    {
      "cell_type": "markdown",
      "source": [
        "\n",
        "\n",
        "```\n",
        "source base -> Multiplication\n",
        "Destination base -> Division\n",
        "\n",
        "This is application only when atleast one base is decimal\n",
        "\n",
        "To convert any base to any other base, first convert the source\n",
        "base to decimal base then convert decimal to destination base.\n",
        "```\n",
        "\n"
      ],
      "metadata": {
        "id": "9EF7YvUn51Ld"
      }
    },
    {
      "cell_type": "markdown",
      "source": [
        "\n",
        "\n",
        "\n",
        "2's Complement\n",
        "\n",
        "---\n",
        "\n",
        "```\n",
        "1. The MSB in a binary number indicates the sign:\n",
        "   - 0 for positive numbers.\n",
        "   - 1 for negative numbers.\n",
        "\n",
        "2. To interpret the value of a binary number with MSB = 1:\n",
        "   - Find its two's complement (flip the bits and add 1) to determine its magnitude.\n",
        "   - The number is negative, so apply the negative sign to the magnitude.\n",
        "\n",
        "For example:\n",
        "- Binary number: 1110 (MSB is 1).  \n",
        "- Step 1: Invert the digits: 0001.  \n",
        "- Step 2: Add 1: 0010 (decimal value = 2).  \n",
        "- Since MSB = 1, the number is -2 in decimal.\n",
        "```\n",
        "\n"
      ],
      "metadata": {
        "id": "hYF5yWEsEgdm"
      }
    },
    {
      "cell_type": "markdown",
      "source": [
        "\n",
        "\n",
        "```\n",
        "By default, Python interprets binary numbers as unsigned,\n",
        "meaning all bits are treated as part of the magnitude, not as a signed number with a sign bit.\n",
        "\n",
        "For instance, 0b1101 would be converted to 13 in decimal, because Python assumes it's unsigned.\n",
        "```\n",
        "\n"
      ],
      "metadata": {
        "id": "a5-WozyeINbM"
      }
    },
    {
      "cell_type": "markdown",
      "source": [
        "\n",
        "\n",
        "```\n",
        "When Python converts -5 to binary, it does so using two's complement representation internally.\n",
        "The binary representation of -5 in Python, using 8 bits, would be 11111011.\n",
        "\n",
        "Python doesn't explicitly show us the negative number's binary form unless we interpret it manually,\n",
        "as its native binary functions (bin()) only show the absolute value with a negative sign prefixed (e.g., bin(-5) outputs -0b101).\n",
        "However, internally, Python uses this two's complement binary form to store and compute signed integers seamlessly.\n",
        "```\n",
        "\n"
      ],
      "metadata": {
        "id": "uki75b-FIT1j"
      }
    }
  ]
}