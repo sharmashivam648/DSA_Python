{
  "cells": [
    {
      "cell_type": "markdown",
      "source": [
        "Note:\n",
        "if n is odd then middle row is floor value of (n/2) + 1"
      ],
      "metadata": {
        "id": "lIZ90WVzQ5nP"
      }
    },
    {
      "cell_type": "code",
      "execution_count": null,
      "metadata": {
        "colab": {
          "base_uri": "https://localhost:8080/"
        },
        "id": "tGz4k5kkPCFt",
        "outputId": "2f3f756c-74d0-4b1a-ad77-ef7675b3d5af"
      },
      "outputs": [
        {
          "output_type": "stream",
          "name": "stdout",
          "text": [
            "Enter an Integer: 5\n",
            "* \n",
            "* * \n",
            "* * * \n",
            "* * * * \n",
            "* * * * * \n",
            "* * * * \n",
            "* * * \n",
            "* * \n",
            "* \n"
          ]
        }
      ],
      "source": [
        "n = int(input('Enter an Integer: '))\n",
        "\n",
        "stars = 1\n",
        "row = 1\n",
        "\n",
        "while row <= 2 * n - 1:\n",
        "  col = 1\n",
        "\n",
        "  while col <= stars:\n",
        "    print('*', end = ' ')\n",
        "    col += 1\n",
        "\n",
        "  if row < n:\n",
        "      stars += 1\n",
        "\n",
        "  else:\n",
        "      stars -= 1\n",
        "\n",
        "  row += 1\n",
        "  print()"
      ]
    },
    {
      "cell_type": "code",
      "source": [
        "n = 5\n",
        "\n",
        "space = n - 1\n",
        "stars = n\n",
        "row = 1\n",
        "\n",
        "while row <= 2 * n - 1:\n",
        "\n",
        "  col = 1\n",
        "  while col <= space:\n",
        "    print(' ', end = ' ')\n",
        "    col += 1\n",
        "\n",
        "  col = 1\n",
        "  while col <= stars:\n",
        "    print('*', end = ' ')\n",
        "    col += 1\n",
        "\n",
        "  if row < n:\n",
        "    stars -= 1\n",
        "    space -= 1\n",
        "\n",
        "  else:\n",
        "    stars += 1\n",
        "    space += 1\n",
        "\n",
        "  row += 1\n",
        "  print()\n",
        "\n"
      ],
      "metadata": {
        "colab": {
          "base_uri": "https://localhost:8080/"
        },
        "id": "hbFPKw8A8FpL",
        "outputId": "5f34e140-66a8-497d-a606-0adf7eb99adf"
      },
      "execution_count": null,
      "outputs": [
        {
          "output_type": "stream",
          "name": "stdout",
          "text": [
            "        * * * * * \n",
            "      * * * * \n",
            "    * * * \n",
            "  * * \n",
            "* \n",
            "  * * \n",
            "    * * * \n",
            "      * * * * \n",
            "        * * * * * \n"
          ]
        }
      ]
    },
    {
      "cell_type": "code",
      "source": [
        "n = 7\n",
        "stars = n/2 + 1\n",
        "space = -1\n",
        "\n",
        "row = 1\n",
        "while row <= n:\n",
        "  col = 1\n",
        "  while col <= stars:\n",
        "    print('*', end = ' ')\n",
        "    col += 1\n",
        "\n",
        "  col = 1\n",
        "  while col <= space:\n",
        "    print(' ', end = ' ')\n",
        "    col += 1\n",
        "\n",
        "  col = 1\n",
        "  if row == 1 or row == n:\n",
        "    col = 2\n",
        "\n",
        "  while col <= stars:\n",
        "    print('*', end = ' ')\n",
        "    col += 1\n",
        "\n",
        "  if row < n / 2:\n",
        "    stars -= 1\n",
        "    space += 2\n",
        "\n",
        "  else:\n",
        "    stars += 1\n",
        "    space -= 2\n",
        "\n",
        "  print()\n",
        "  row += 1"
      ],
      "metadata": {
        "colab": {
          "base_uri": "https://localhost:8080/"
        },
        "id": "mPngJAbP0EfK",
        "outputId": "9b750263-e8df-4a41-f68f-8545d4866f95"
      },
      "execution_count": null,
      "outputs": [
        {
          "output_type": "stream",
          "name": "stdout",
          "text": [
            "* * * * * * * \n",
            "* * *   * * * \n",
            "* *       * * \n",
            "*           * \n",
            "* *       * * \n",
            "* * *   * * * \n",
            "* * * * * * * \n"
          ]
        }
      ]
    },
    {
      "cell_type": "code",
      "source": [
        "n = 7\n",
        "\n",
        "o_space = n / 2\n",
        "i_space = -1\n",
        "\n",
        "row = 1\n",
        "while row <= n:\n",
        "  col = 1\n",
        "  while col <= o_space:\n",
        "    print(' ', end = ' ')\n",
        "    col += 1\n",
        "\n",
        "  print('*', end = ' ')\n",
        "\n",
        "  col = 1\n",
        "  while col <= i_space:\n",
        "    print(' ', end = ' ')\n",
        "    col += 1\n",
        "\n",
        "  if row != 1 and row != n:\n",
        "    print('*', end = ' ')\n",
        "\n",
        "  if row < n / 2:\n",
        "    o_space -= 1\n",
        "    i_space += 2\n",
        "\n",
        "  else:\n",
        "    o_space += 1\n",
        "    i_space -= 2\n",
        "\n",
        "  print()\n",
        "  row += 1"
      ],
      "metadata": {
        "colab": {
          "base_uri": "https://localhost:8080/"
        },
        "id": "BJJ1_X2Z2tXF",
        "outputId": "aa1c8e5d-796b-4f6d-a948-d137eff17e70"
      },
      "execution_count": null,
      "outputs": [
        {
          "output_type": "stream",
          "name": "stdout",
          "text": [
            "      * \n",
            "    *   * \n",
            "  *       * \n",
            "*           * \n",
            "  *       * \n",
            "    *   * \n",
            "      * \n"
          ]
        }
      ]
    },
    {
      "cell_type": "code",
      "source": [
        "n = 5\n",
        "\n",
        "number = 1\n",
        "space = n - 1\n",
        "\n",
        "row = 1\n",
        "\n",
        "while row <= n:\n",
        "  col = 1\n",
        "  while col <= space:\n",
        "    print(' ', end = ' ')\n",
        "    col += 1\n",
        "\n",
        "  col = 1\n",
        "  while col <= number:\n",
        "    print(1, end = ' ')\n",
        "    col += 1\n",
        "\n",
        "  space -= 1\n",
        "  number += 2\n",
        "\n",
        "  row += 1\n",
        "  print()"
      ],
      "metadata": {
        "colab": {
          "base_uri": "https://localhost:8080/"
        },
        "id": "vzF9sxoTBgYe",
        "outputId": "c4b8e7f6-76e9-4a76-9476-f0e0a1bfb87f"
      },
      "execution_count": null,
      "outputs": [
        {
          "output_type": "stream",
          "name": "stdout",
          "text": [
            "        1 \n",
            "      1 1 1 \n",
            "    1 1 1 1 1 \n",
            "  1 1 1 1 1 1 1 \n",
            "1 1 1 1 1 1 1 1 1 \n"
          ]
        }
      ]
    },
    {
      "cell_type": "code",
      "source": [
        "n = 5\n",
        "\n",
        "number = 1\n",
        "space = n - 1\n",
        "\n",
        "row = 1\n",
        "\n",
        "while row <= n:\n",
        "  col = 1\n",
        "  while col <= space:\n",
        "    print(' ', end = ' ')\n",
        "    col += 1\n",
        "\n",
        "  col = 1\n",
        "  while col <= number:\n",
        "    print(row, end = ' ')\n",
        "    col += 1\n",
        "\n",
        "  space -= 1\n",
        "  number += 2\n",
        "\n",
        "  row += 1\n",
        "  print()"
      ],
      "metadata": {
        "colab": {
          "base_uri": "https://localhost:8080/"
        },
        "id": "CbX5_0ssEjXL",
        "outputId": "b75469a7-c619-4700-d403-0220cf51c3f7"
      },
      "execution_count": null,
      "outputs": [
        {
          "output_type": "stream",
          "name": "stdout",
          "text": [
            "        1 \n",
            "      2 2 2 \n",
            "    3 3 3 3 3 \n",
            "  4 4 4 4 4 4 4 \n",
            "5 5 5 5 5 5 5 5 5 \n"
          ]
        }
      ]
    },
    {
      "cell_type": "code",
      "source": [
        "n = 5\n",
        "\n",
        "number = 1\n",
        "space = n - 1\n",
        "value = 1\n",
        "\n",
        "row = 1\n",
        "\n",
        "while row <= n:\n",
        "  col = 1\n",
        "  while col <= space:\n",
        "    print(' ', end = '\\t') #tab separated\n",
        "    col += 1\n",
        "\n",
        "  col = 1\n",
        "  while col <= number:\n",
        "    print(value, end = '\\t')\n",
        "    value += 1\n",
        "    col += 1\n",
        "\n",
        "  space -= 1\n",
        "  number += 2\n",
        "\n",
        "  row += 1\n",
        "  print()"
      ],
      "metadata": {
        "colab": {
          "base_uri": "https://localhost:8080/"
        },
        "id": "mK4s-PlzEmgv",
        "outputId": "7634b16c-fdd2-4eac-fef0-5094f9737709"
      },
      "execution_count": null,
      "outputs": [
        {
          "output_type": "stream",
          "name": "stdout",
          "text": [
            " \t \t \t \t1\t\n",
            " \t \t \t2\t3\t4\t\n",
            " \t \t5\t6\t7\t8\t9\t\n",
            " \t10\t11\t12\t13\t14\t15\t16\t\n",
            "17\t18\t19\t20\t21\t22\t23\t24\t25\t\n"
          ]
        }
      ]
    },
    {
      "cell_type": "code",
      "source": [
        "n = 5\n",
        "\n",
        "number = 1\n",
        "space = n - 1\n",
        "value = 1\n",
        "\n",
        "row = 1\n",
        "\n",
        "while row <= n:\n",
        "  col = 1\n",
        "  while col <= space:\n",
        "    print(' ', end = '\\t') #tab separated\n",
        "    col += 1\n",
        "\n",
        "  col = 1\n",
        "  value = 1\n",
        "  while col <= number:\n",
        "    print(value, end = '\\t')\n",
        "    value += 1\n",
        "    col += 1\n",
        "\n",
        "  space -= 1\n",
        "  number += 2\n",
        "\n",
        "  row += 1\n",
        "  print()"
      ],
      "metadata": {
        "colab": {
          "base_uri": "https://localhost:8080/"
        },
        "id": "hSiZVNk2GvQw",
        "outputId": "14a87a0e-1470-4206-afb8-90af58bcca5b"
      },
      "execution_count": null,
      "outputs": [
        {
          "output_type": "stream",
          "name": "stdout",
          "text": [
            " \t \t \t \t1\t\n",
            " \t \t \t1\t2\t3\t\n",
            " \t \t1\t2\t3\t4\t5\t\n",
            " \t1\t2\t3\t4\t5\t6\t7\t\n",
            "1\t2\t3\t4\t5\t6\t7\t8\t9\t\n"
          ]
        }
      ]
    },
    {
      "cell_type": "code",
      "source": [
        "n = 5\n",
        "\n",
        "number = 1\n",
        "space = n - 1\n",
        "value = 1\n",
        "\n",
        "row = 1\n",
        "\n",
        "while row <= n:\n",
        "  col = 1\n",
        "  while col <= space:\n",
        "    print(' ', end = '\\t') #tab separated\n",
        "    col += 1\n",
        "\n",
        "  col = 1\n",
        "  value = 1\n",
        "  while col <= number:\n",
        "    print(value, end = '\\t')\n",
        "    if col < number / 2:\n",
        "      value += 1\n",
        "    else:\n",
        "      value -= 1\n",
        "    col += 1\n",
        "\n",
        "\n",
        "  space -= 1\n",
        "  number += 2\n",
        "\n",
        "  row += 1\n",
        "  print()"
      ],
      "metadata": {
        "colab": {
          "base_uri": "https://localhost:8080/"
        },
        "id": "cGhQAIwnJ6fW",
        "outputId": "189ad4c5-82e8-4b71-8713-b988797f8d71"
      },
      "execution_count": null,
      "outputs": [
        {
          "output_type": "stream",
          "name": "stdout",
          "text": [
            " \t \t \t \t1\t\n",
            " \t \t \t1\t2\t1\t\n",
            " \t \t1\t2\t3\t2\t1\t\n",
            " \t1\t2\t3\t4\t3\t2\t1\t\n",
            "1\t2\t3\t4\t5\t4\t3\t2\t1\t\n"
          ]
        }
      ]
    },
    {
      "cell_type": "code",
      "source": [
        "n = 5\n",
        "\n",
        "number = 1\n",
        "space = n - 1\n",
        "value = 1\n",
        "\n",
        "row = 1\n",
        "\n",
        "while row <= n:\n",
        "  col = 1\n",
        "  while col <= space:\n",
        "    print(' ', end = '\\t') #tab separated\n",
        "    col += 1\n",
        "\n",
        "  col = 1\n",
        "  value = row\n",
        "  while col <= number:\n",
        "    print(value, end = '\\t')\n",
        "    if col < number / 2:\n",
        "      value += 1\n",
        "    else:\n",
        "      value -= 1\n",
        "    col += 1\n",
        "\n",
        "\n",
        "  space -= 1\n",
        "  number += 2\n",
        "\n",
        "  row += 1\n",
        "  print()"
      ],
      "metadata": {
        "colab": {
          "base_uri": "https://localhost:8080/"
        },
        "id": "jIqb9htbKTum",
        "outputId": "4b5bb28a-2944-4abb-89b5-c8b596679971"
      },
      "execution_count": null,
      "outputs": [
        {
          "output_type": "stream",
          "name": "stdout",
          "text": [
            " \t \t \t \t1\t\n",
            " \t \t \t2\t3\t2\t\n",
            " \t \t3\t4\t5\t4\t3\t\n",
            " \t4\t5\t6\t7\t6\t5\t4\t\n",
            "5\t6\t7\t8\t9\t8\t7\t6\t5\t\n"
          ]
        }
      ]
    },
    {
      "cell_type": "code",
      "source": [
        "n = 3\n",
        "\n",
        "number = 1\n",
        "space = n - 1\n",
        "value = 1\n",
        "row = 1\n",
        "\n",
        "while row <= 2*n - 1:\n",
        "  col = 1\n",
        "  while col <= space:\n",
        "    print(' ', end = ' ')\n",
        "    col += 1\n",
        "\n",
        "  col = 1\n",
        "  var = value # New variable\n",
        "  while col <= number:\n",
        "    print(var, end =' ')\n",
        "\n",
        "    if col < number / 2:\n",
        "      var += 1\n",
        "    else:\n",
        "      var -= 1\n",
        "\n",
        "    col += 1\n",
        "\n",
        "  if row < n:\n",
        "    number += 2\n",
        "    space -= 1\n",
        "    value += 1\n",
        "\n",
        "  else:\n",
        "    number -= 2\n",
        "    space += 1\n",
        "    value -= 1\n",
        "\n",
        "  row += 1\n",
        "  print()"
      ],
      "metadata": {
        "colab": {
          "base_uri": "https://localhost:8080/"
        },
        "id": "xeNudju0P6M0",
        "outputId": "037ee26c-bf1e-45d7-a3eb-d9615a73fed7"
      },
      "execution_count": null,
      "outputs": [
        {
          "output_type": "stream",
          "name": "stdout",
          "text": [
            "    1 \n",
            "  2 3 2 \n",
            "3 4 5 4 3 \n",
            "  2 3 2 \n",
            "    1 \n"
          ]
        }
      ]
    }
  ],
  "metadata": {
    "colab": {
      "provenance": []
    },
    "kernelspec": {
      "display_name": "Python 3",
      "name": "python3"
    },
    "language_info": {
      "name": "python"
    }
  },
  "nbformat": 4,
  "nbformat_minor": 0
}