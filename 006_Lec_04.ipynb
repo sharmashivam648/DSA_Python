{
  "nbformat": 4,
  "nbformat_minor": 0,
  "metadata": {
    "colab": {
      "provenance": []
    },
    "kernelspec": {
      "name": "python3",
      "display_name": "Python 3"
    },
    "language_info": {
      "name": "python"
    }
  },
  "cells": [
    {
      "cell_type": "code",
      "execution_count": null,
      "metadata": {
        "id": "aqWrPu_r58Q3",
        "colab": {
          "base_uri": "https://localhost:8080/"
        },
        "outputId": "44fa3ba6-f91f-4b9d-c74a-eba2e25b099a"
      },
      "outputs": [
        {
          "output_type": "stream",
          "name": "stdout",
          "text": [
            "Enter a number: 17\n",
            "Number is prime\n"
          ]
        }
      ],
      "source": [
        "#Prime Number\n",
        "\n",
        "num = int(input('Enter a number: '))\n",
        "count = 0\n",
        "\n",
        "for i in range(2, num):\n",
        "  if num % i == 0:\n",
        "    count += 1\n",
        "\n",
        "if count >= 1:\n",
        "  print('Number is Not Prime')\n",
        "\n",
        "else:\n",
        "  print('Number is prime')"
      ]
    },
    {
      "cell_type": "code",
      "source": [
        "#Prime Number\n",
        "\n",
        "num = int(input('Enter a number: '))\n",
        "count = 0\n",
        "\n",
        "for i in range(2, num):\n",
        "  if num % i == 0:\n",
        "    count += 1\n",
        "    break\n",
        "\n",
        "if count == 1:\n",
        "  print('Number is Not Prime')\n",
        "\n",
        "else:\n",
        "  print('Number is prime')"
      ],
      "metadata": {
        "colab": {
          "base_uri": "https://localhost:8080/"
        },
        "id": "VyfMWk96_yvD",
        "outputId": "825991d5-226c-4c38-c9da-f79dcdee2dc8"
      },
      "execution_count": null,
      "outputs": [
        {
          "output_type": "stream",
          "name": "stdout",
          "text": [
            "Enter a number: 15\n",
            "Number is Not Prime\n"
          ]
        }
      ]
    },
    {
      "cell_type": "code",
      "source": [
        "#Prime Number\n",
        "num = int(input('Enter a number: '))\n",
        "\n",
        "for i in range(2, num):\n",
        "  if num % i == 0:\n",
        "    print('Number is Not Prime')\n",
        "    break\n",
        "\n",
        "else:\n",
        "  print('Number is prime')"
      ],
      "metadata": {
        "colab": {
          "base_uri": "https://localhost:8080/"
        },
        "id": "dUHJahbXAN3B",
        "outputId": "c0c3123f-1214-4b92-d8f2-894cbfbd729b"
      },
      "execution_count": null,
      "outputs": [
        {
          "output_type": "stream",
          "name": "stdout",
          "text": [
            "Enter a number: 11\n",
            "Number is prime\n"
          ]
        }
      ]
    },
    {
      "cell_type": "code",
      "source": [
        "# FIBONACCI NUMBER\n",
        "n = int(input('Enter a Number: '))\n",
        "list1 = []\n",
        "\n",
        "a = 0\n",
        "b = 1\n",
        "\n",
        "for i in range(n):\n",
        "  list1.append(a)\n",
        "  c = a + b\n",
        "  a = b\n",
        "  b = c\n",
        "\n",
        "print(list1)"
      ],
      "metadata": {
        "colab": {
          "base_uri": "https://localhost:8080/"
        },
        "id": "ww-ZGw1DA7Bs",
        "outputId": "be271f13-2e1c-4f4b-a4a3-0a709f539fd4"
      },
      "execution_count": null,
      "outputs": [
        {
          "output_type": "stream",
          "name": "stdout",
          "text": [
            "Enter a Number: 8\n",
            "[0, 1, 1, 2, 3, 5, 8, 13]\n"
          ]
        }
      ]
    },
    {
      "cell_type": "code",
      "source": [
        "# HCF of two numbers\n",
        "\n",
        "divident = int(input('Enter 1st number: '))\n",
        "divisor = int(input('Enter 2nd number: '))\n",
        "\n",
        "while divident % divisor != 0:\n",
        "  rem = divident % divisor\n",
        "  divident = divisor\n",
        "  divisor = rem\n",
        "\n",
        "print('HCF is', divisor)"
      ],
      "metadata": {
        "colab": {
          "base_uri": "https://localhost:8080/"
        },
        "id": "Tr7KK7tTMb3r",
        "outputId": "4dd6fbcf-64e4-405f-da36-d488ab53de50"
      },
      "execution_count": null,
      "outputs": [
        {
          "output_type": "stream",
          "name": "stdout",
          "text": [
            "Enter 1st number: 36\n",
            "Enter 2nd number: 60\n",
            "HCF is 12\n"
          ]
        }
      ]
    },
    {
      "cell_type": "code",
      "source": [
        "# Sum of Digits\n",
        "\n",
        "num = int(input('Enter a Number: '))\n",
        "sum = 0\n",
        "\n",
        "while num != 0:\n",
        "  sum = sum + num % 10\n",
        "  num //= 10\n",
        "\n",
        "print(sum)"
      ],
      "metadata": {
        "colab": {
          "base_uri": "https://localhost:8080/"
        },
        "id": "Rhbvd_L2RgB8",
        "outputId": "b39d77f7-855d-4f2f-de8f-1b2fd1d5af62"
      },
      "execution_count": null,
      "outputs": [
        {
          "output_type": "stream",
          "name": "stdout",
          "text": [
            "Enter a Number: 5263\n",
            "16\n"
          ]
        }
      ]
    },
    {
      "cell_type": "code",
      "source": [
        "'''\n",
        "nCr/nCr-1 = n-r+1 / r\n",
        "\n",
        "nCr+1/nCr = n-r / r+1\n",
        "\n",
        "'''"
      ],
      "metadata": {
        "id": "QrrQaL3aXJBk"
      },
      "execution_count": null,
      "outputs": []
    },
    {
      "cell_type": "code",
      "source": [
        "# Using above formula\n",
        "\n",
        "N = int(input('Enter an Integer: '))\n",
        "\n",
        "n = 0\n",
        "\n",
        "while n < N:\n",
        "  r = 0\n",
        "  nCr = 1\n",
        "\n",
        "  while r <= n:\n",
        "    print(nCr, end = '\\t')\n",
        "    nCr = round(((n-r) / (r+1)) * nCr)\n",
        "    r += 1\n",
        "\n",
        "  print()\n",
        "  n += 1"
      ],
      "metadata": {
        "colab": {
          "base_uri": "https://localhost:8080/"
        },
        "id": "Hfj20UqTUOZ4",
        "outputId": "56706a4e-543f-438c-fdc6-57fcbdc5724d"
      },
      "execution_count": 3,
      "outputs": [
        {
          "output_type": "stream",
          "name": "stdout",
          "text": [
            "Enter an Integer: 6\n",
            "1\t\n",
            "1\t1\t\n",
            "1\t2\t1\t\n",
            "1\t3\t3\t1\t\n",
            "1\t4\t6\t4\t1\t\n",
            "1\t5\t10\t10\t5\t1\t\n"
          ]
        }
      ]
    },
    {
      "cell_type": "code",
      "source": [
        "# Using Python math module\n",
        "\n",
        "import math as m\n",
        "N = int(input('Enter an Integer: '))\n",
        "\n",
        "n = 0\n",
        "\n",
        "while n < N:\n",
        "  r = 0\n",
        "\n",
        "  while r <= n:\n",
        "    nCr = round(m.factorial(n) / (m.factorial(r) * m.factorial(n-r)))\n",
        "    print(nCr, end = '\\t')\n",
        "    r += 1\n",
        "\n",
        "  print()\n",
        "  n += 1"
      ],
      "metadata": {
        "colab": {
          "base_uri": "https://localhost:8080/"
        },
        "id": "2GWenMY9UQBY",
        "outputId": "ab281a6f-fb2c-477c-9e35-448c43f2561c"
      },
      "execution_count": 4,
      "outputs": [
        {
          "output_type": "stream",
          "name": "stdout",
          "text": [
            "Enter an Integer: 6\n",
            "1\t\n",
            "1\t1\t\n",
            "1\t2\t1\t\n",
            "1\t3\t3\t1\t\n",
            "1\t4\t6\t4\t1\t\n",
            "1\t5\t10\t10\t5\t1\t\n"
          ]
        }
      ]
    }
  ]
}